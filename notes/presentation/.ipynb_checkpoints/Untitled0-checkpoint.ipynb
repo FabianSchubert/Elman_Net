{
 "metadata": {
  "name": "",
  "signature": "sha256:727945a870cc3877aee3b7f4a711016a28e39052c44b61bd2d687f13149da602"
 },
 "nbformat": 3,
 "nbformat_minor": 0,
 "worksheets": []
}