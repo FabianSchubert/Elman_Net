{
 "metadata": {
  "name": "",
  "signature": "sha256:14a706af5a319ab8c5119683e6cd865a5108750b38ca4f9abc76e1705765fa57"
 },
 "nbformat": 3,
 "nbformat_minor": 0,
 "worksheets": [
  {
   "cells": [
    {
     "cell_type": "code",
     "collapsed": false,
     "input": [
      "%matplotlib inline\n",
      "import numpy as np\n",
      "import matplotlib.pyplot as plt"
     ],
     "language": "python",
     "metadata": {},
     "outputs": [],
     "prompt_number": 1
    },
    {
     "cell_type": "code",
     "collapsed": false,
     "input": [
      "A = np.array([[2.,0.],\n",
      "              [0.,1.]])\n",
      "v = np.array([0.,1.])\n",
      "x = np.random.normal(0.,0.01,(2))\n",
      "\n",
      "n_t = 10000\n",
      "x_rec = np.ndarray((n_t,2))\n",
      "\n",
      "for t in range(n_t):\n",
      "    \n",
      "    x += 0.01*(np.dot(A,x) + v - x*np.linalg.norm(x))\n",
      "    x_rec[t,:] = x\n",
      "    \n",
      "plt.plot(x_rec[:,0],x_rec[:,1])\n",
      "plt.show()"
     ],
     "language": "python",
     "metadata": {},
     "outputs": [
      {
       "metadata": {},
       "output_type": "display_data",
       "png": "[encoded data removed]",
       "text": [
        "<Figure size 600x400 with 1 Axes>"
       ]
      }
     ],
     "prompt_number": 17
    },
    {
     "cell_type": "code",
     "collapsed": false,
     "input": [],
     "language": "python",
     "metadata": {},
     "outputs": [],
     "prompt_number": 7
    },
    {
     "cell_type": "code",
     "collapsed": false,
     "input": [],
     "language": "python",
     "metadata": {},
     "outputs": []
    }
   ],
   "metadata": {}
  }
 ]
}